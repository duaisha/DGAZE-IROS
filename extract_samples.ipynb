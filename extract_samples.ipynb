{
 "cells": [
  {
   "cell_type": "code",
   "execution_count": 10,
   "metadata": {},
   "outputs": [],
   "source": [
    "from multiprocessing import Process\n",
    "import matplotlib.pyplot as plt\n",
    "import numpy as np\n",
    "import cv2\n",
    "import sys"
   ]
  },
  {
   "cell_type": "code",
   "execution_count": 11,
   "metadata": {},
   "outputs": [],
   "source": [
    "def extract_samples(road_video, driver_video):\n",
    "    \n",
    "    flag = 0; i = 0; vs = 0\n",
    "    \n",
    "    vid1 = cv2.VideoCapture(road_video)\n",
    "    vid2 = cv2.VideoCapture(driver_video)\n",
    "    \n",
    "    length = int(vid1.get(cv2.CAP_PROP_FRAME_COUNT))\n",
    "    \n",
    "    while(True):\n",
    "\n",
    "        ret1, frame1 = vid1.read()\n",
    "        ret2, frame2 = vid2.read()\n",
    "\n",
    "        frame1 = cv2.flip(frame1,-1)\n",
    "        frame2 = cv2.flip(frame2,-1)\n",
    "        \n",
    "        if (ret1 == False or ret2 == False):\n",
    "            break\n",
    "                  \n",
    "        cv2.imshow('frame_window', frame1)\n",
    "        key = cv2.waitKey(100) & 0xFF\n",
    "        \n",
    "        if (key == ord('s')):\n",
    "            if(flag == 0):\n",
    "                flag = 1\n",
    "                output_vid1 = \"dataset_samples/user1/road_view/sample\"+  str(vs+1) + \".avi\"\n",
    "                output_vid2 = \"dataset_samples/user1/driver_view/sample\"+  str(vs+1) + \".avi\"\n",
    "                \n",
    "                fourcc = cv2.VideoWriter_fourcc(*'XVID')\n",
    "                out1 = cv2.VideoWriter(output_vid1,fourcc, 21, (1440,1080))\n",
    "                out2 = cv2.VideoWriter(output_vid2,fourcc, 21, (1440,1080))\n",
    "                \n",
    "                vs += 1 \n",
    "            \n",
    "        elif (key == ord('q') and flag ==1):\n",
    "            out1.release()\n",
    "            out2.release()\n",
    "            flag = 0\n",
    "        \n",
    "        if(flag ==1):\n",
    "            out1.write(frame1)   \n",
    "            out2.write(frame2) \n",
    "            \n",
    "        i+=1\n",
    "        \n",
    "    cv2.destroyAllWindows()\n",
    "    vid1.release()\n",
    "    vid2.release()\n",
    "    out1.release()\n",
    "    out2.release()\n"
   ]
  },
  {
   "cell_type": "code",
   "execution_count": 12,
   "metadata": {},
   "outputs": [
    {
     "ename": "AttributeError",
     "evalue": "module 'cv2' has no attribute 'VideoCapture'",
     "output_type": "error",
     "traceback": [
      "\u001b[0;31m---------------------------------------------------------------------------\u001b[0m",
      "\u001b[0;31mAttributeError\u001b[0m                            Traceback (most recent call last)",
      "\u001b[0;32m<ipython-input-12-18d4c0fb323c>\u001b[0m in \u001b[0;36m<module>\u001b[0;34m()\u001b[0m\n\u001b[0;32m----> 1\u001b[0;31m \u001b[0mextract_samples\u001b[0m\u001b[0;34m(\u001b[0m\u001b[0;34m\"dataset/user1_road.mp4\"\u001b[0m\u001b[0;34m,\u001b[0m\u001b[0;34m\"dataset/user1_driver.mp4\"\u001b[0m\u001b[0;34m)\u001b[0m\u001b[0;34m\u001b[0m\u001b[0m\n\u001b[0m",
      "\u001b[0;32m<ipython-input-11-674b9cb6d7e0>\u001b[0m in \u001b[0;36mextract_samples\u001b[0;34m(road_video, driver_video)\u001b[0m\n\u001b[1;32m      3\u001b[0m     \u001b[0mflag\u001b[0m \u001b[0;34m=\u001b[0m \u001b[0;36m0\u001b[0m\u001b[0;34m;\u001b[0m \u001b[0mi\u001b[0m \u001b[0;34m=\u001b[0m \u001b[0;36m0\u001b[0m\u001b[0;34m;\u001b[0m \u001b[0mvs\u001b[0m \u001b[0;34m=\u001b[0m \u001b[0;36m0\u001b[0m\u001b[0;34m\u001b[0m\u001b[0m\n\u001b[1;32m      4\u001b[0m \u001b[0;34m\u001b[0m\u001b[0m\n\u001b[0;32m----> 5\u001b[0;31m     \u001b[0mvid1\u001b[0m \u001b[0;34m=\u001b[0m \u001b[0mcv2\u001b[0m\u001b[0;34m.\u001b[0m\u001b[0mVideoCapture\u001b[0m\u001b[0;34m(\u001b[0m\u001b[0mroad_video\u001b[0m\u001b[0;34m)\u001b[0m\u001b[0;34m\u001b[0m\u001b[0m\n\u001b[0m\u001b[1;32m      6\u001b[0m     \u001b[0mvid2\u001b[0m \u001b[0;34m=\u001b[0m \u001b[0mcv2\u001b[0m\u001b[0;34m.\u001b[0m\u001b[0mVideoCapture\u001b[0m\u001b[0;34m(\u001b[0m\u001b[0mdriver_video\u001b[0m\u001b[0;34m)\u001b[0m\u001b[0;34m\u001b[0m\u001b[0m\n\u001b[1;32m      7\u001b[0m \u001b[0;34m\u001b[0m\u001b[0m\n",
      "\u001b[0;31mAttributeError\u001b[0m: module 'cv2' has no attribute 'VideoCapture'"
     ]
    }
   ],
   "source": [
    "extract_samples(\"dataset/user1_road.mp4\",\"dataset/user1_driver.mp4\")"
   ]
  },
  {
   "cell_type": "code",
   "execution_count": 6,
   "metadata": {},
   "outputs": [],
   "source": [
    "import cv2"
   ]
  },
  {
   "cell_type": "code",
   "execution_count": null,
   "metadata": {},
   "outputs": [],
   "source": []
  }
 ],
 "metadata": {
  "kernelspec": {
   "display_name": "Python 3",
   "language": "python",
   "name": "python3"
  },
  "language_info": {
   "codemirror_mode": {
    "name": "ipython",
    "version": 3
   },
   "file_extension": ".py",
   "mimetype": "text/x-python",
   "name": "python",
   "nbconvert_exporter": "python",
   "pygments_lexer": "ipython3",
   "version": "3.5.2"
  }
 },
 "nbformat": 4,
 "nbformat_minor": 2
}
