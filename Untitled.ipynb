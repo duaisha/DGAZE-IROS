{
 "cells": [
  {
   "cell_type": "code",
   "execution_count": 1,
   "metadata": {},
   "outputs": [],
   "source": [
    "# import os\n",
    "\n",
    "# os.environ[\"CUDA_DEVICE_ORDER\"]=\"PCI_BUS_ID\"\n",
    "# # The GPU id to use, usually either \"0\" or \"1\"\n",
    "# os.environ[\"CUDA_VISIBLE_DEVICES\"]=\"0\""
   ]
  },
  {
   "cell_type": "code",
   "execution_count": 2,
   "metadata": {},
   "outputs": [
    {
     "name": "stderr",
     "output_type": "stream",
     "text": [
      "Using TensorFlow backend.\n",
      "/home/isha.d/.local/lib/python3.5/site-packages/sklearn/externals/joblib/__init__.py:15: DeprecationWarning: sklearn.externals.joblib is deprecated in 0.21 and will be removed in 0.23. Please import this functionality directly from joblib, which can be installed with: pip install joblib. If this warning is raised when loading pickled models, you may need to re-serialize those models with scikit-learn 0.21+.\n",
      "  warnings.warn(msg, category=DeprecationWarning)\n",
      "/home/isha.d/.local/lib/python3.5/site-packages/sklearn/externals/six.py:31: DeprecationWarning: The module is deprecated in version 0.21 and will be removed in version 0.23 since we've dropped support for Python 2.7. Please rely on the official version of six (https://pypi.org/project/six/).\n",
      "  \"(https://pypi.org/project/six/).\", DeprecationWarning)\n",
      "/home/isha.d/.local/lib/python3.5/site-packages/sklearn/cross_validation.py:41: DeprecationWarning: This module was deprecated in version 0.18 in favor of the model_selection module into which all the refactored classes and functions are moved. Also note that the interface of the new CV iterators are different from that of this module. This module will be removed in 0.20.\n",
      "  \"This module will be removed in 0.20.\", DeprecationWarning)\n"
     ]
    }
   ],
   "source": [
    "import numpy as np\n",
    "import keras\n",
    "import cv2\n",
    "import pandas as pd\n",
    "from keras import regularizers\n",
    "from keras.models import Sequential\n",
    "from keras.layers import Dense, LSTM, Dropout, Activation, GRU, Flatten,Merge\n",
    "from keras.layers.embeddings import Embedding\n",
    "from keras.preprocessing import sequence\n",
    "from keras.optimizers import SGD\n",
    "import matplotlib.pyplot as plt\n",
    "from sklearn.cross_validation import train_test_split\n",
    "from sklearn.metrics import classification_report, confusion_matrix, accuracy_score\n",
    "from sklearn.model_selection import StratifiedKFold\n",
    "from keras.layers.convolutional import Conv1D, MaxPooling1D\n",
    "from keras.layers import Conv2D, MaxPooling2D, Flatten, Dense, Input\n",
    "import os\n",
    "import tensorflow as tf\n",
    "import imutils\n",
    "import dlib\n",
    "from keras.wrappers.scikit_learn import KerasRegressor\n",
    "from sklearn.model_selection import cross_val_score, KFold\n",
    "from sklearn.preprocessing import StandardScaler\n",
    "\n",
    "\n",
    "\n"
   ]
  },
  {
   "cell_type": "markdown",
   "metadata": {},
   "source": [
    "## Data"
   ]
  },
  {
   "cell_type": "code",
   "execution_count": 3,
   "metadata": {},
   "outputs": [],
   "source": [
    "def get_value(data):\n",
    "    arr_row = []\n",
    "    for i in range(len(data)):\n",
    "        row = data[i]\n",
    "        pt1 = row[1] + (row[3] - row[1])/2\n",
    "        pt2 = row[2] + (row[4] - row[2])/2\n",
    "        temp =[int(pt1), int(pt2)]\n",
    "        arr_row.append(temp)\n",
    "        \n",
    "    return np.array(arr_row)"
   ]
  },
  {
   "cell_type": "code",
   "execution_count": 4,
   "metadata": {},
   "outputs": [],
   "source": [
    "def get_features(folder):\n",
    "    arr_X_lefteye = []\n",
    "    arr_X_righteye = []\n",
    "    arr_X_face_features = []\n",
    "\n",
    "    arr_Y =[]\n",
    "    \n",
    "    for i in range(112):\n",
    "\n",
    "        filenameX = \"/ssd_scratch/cvit/isha2/DGM_final2/dataset_samples_callibrated/user\"+str(folder)+\"/explicit_face_features_game/sample\"+str(i+1)\n",
    "        filenameX_face_points = \"/ssd_scratch/cvit/isha2/DGM_final2/dataset_samples_callibrated/user\"+str(folder)+\"/explicit_face_points/sample_\"+str(i+1)\n",
    "        filenameY= \"/ssd_scratch/cvit/isha2/DGM_final2/dataset_samples_callibrated/user\"+str(folder)+\"/original_road_view/sample_\"+str(i+1)+\".npy\"\n",
    "        \n",
    "        if(os.path.exists(\"/ssd_scratch/cvit/isha2/DGM_final2/dataset_samples_callibrated/user\"+str(folder)+\"/explicit_face_features_game/\") and os.path.exists(filenameY)\n",
    "          and os.path.exists(filenameX +\"_left_eye_data.npy\") and os.path.exists(filenameX +\"_right_eye_data.npy\")\n",
    "          and os.path.exists(filenameX +\"_headpose_pupil.npy\")):\n",
    "            \n",
    "            x_lefteye = np.load(filenameX +\"_left_eye_data.npy\")\n",
    "            x_righteye = np.load(filenameX +\"_right_eye_data.npy\")\n",
    "            x_face_features = np.load(filenameX +\"_headpose_pupil.npy\")\n",
    "            x_face_points = np.load(filenameX_face_points +\"_face_points.npy\")\n",
    "            #print(i)\n",
    "            y = np.load(filenameY)\n",
    "\n",
    "            if(y.shape[0]>=50):\n",
    "                \n",
    "                arr_X_lefteye.append(x_lefteye[:50])\n",
    "                arr_X_righteye.append(x_righteye[:50])\n",
    "                arr_X_face_features.append(np.concatenate((x_face_features[:50], x_face_points[:50]),axis =1))\n",
    "      \n",
    "                if(i>=9):\n",
    "                    arr_Y.append(get_value(y[:50,:]))\n",
    "                else: \n",
    "                    arr_Y.append(y[:50,:])\n",
    "\n",
    "   # print(np.array(arr_X_lefteye).shape, np.array(arr_X_righteye).shape, np.array(arr_X_face_features).shape, np.array(arr_Y).shape)\n",
    "    return np.array(arr_X_lefteye), np.array(arr_X_righteye), np.array(arr_X_face_features), np.array(arr_Y)\n",
    "\n",
    "            "
   ]
  },
  {
   "cell_type": "code",
   "execution_count": 5,
   "metadata": {},
   "outputs": [
    {
     "name": "stdout",
     "output_type": "stream",
     "text": [
      "0\n",
      "1\n",
      "2\n",
      "3\n",
      "4\n",
      "5\n",
      "6\n",
      "7\n",
      "8\n",
      "9\n",
      "10\n",
      "11\n",
      "12\n",
      "13\n",
      "14\n",
      "15\n",
      "16\n",
      "17\n",
      "18\n",
      "19\n",
      "(2121, 50, 36, 60, 3) (2121, 50, 36, 60, 3) (2121, 50, 15) (2121, 50, 2)\n"
     ]
    }
   ],
   "source": [
    "users = [2,3,5,7,8,10,11,12,13,14,15,16,17,18,19,20,21,22,23,24]\n",
    "\n",
    "for i in range(len(users)):\n",
    "    \n",
    "    print(i)\n",
    "    left_eye, right_eye, face_features, Y = get_features(users[i])\n",
    "    \n",
    "    if(i == 0):\n",
    "        left_eye_data = left_eye\n",
    "        right_eye_data = right_eye\n",
    "        face_features_data = face_features\n",
    "        Ydata = Y\n",
    "        \n",
    "    left_eye_data = np.concatenate((left_eye_data, left_eye), axis = 0)\n",
    "    right_eye_data = np.concatenate((right_eye_data, right_eye), axis = 0)\n",
    "    face_features_data = np.concatenate((face_features_data, face_features), axis = 0)\n",
    "    Ydata = np.concatenate((Ydata, Y), axis = 0)\n",
    "    \n",
    "print(left_eye_data.shape, right_eye_data.shape, face_features_data.shape,Ydata.shape)"
   ]
  },
  {
   "cell_type": "code",
   "execution_count": 6,
   "metadata": {},
   "outputs": [
    {
     "name": "stdout",
     "output_type": "stream",
     "text": [
      "(2121, 50, 36, 60, 3) (2121, 50, 36, 60, 3) (2121, 50, 15) (2121, 50, 2)\n"
     ]
    }
   ],
   "source": [
    "left_eye_data1 = left_eye_data[:,:,:,:,:]\n",
    "right_eye_data1 = right_eye_data[:,:,:,:,:]\n",
    "face_features_data1 = face_features_data[:,:,:]\n",
    "Ydata1 = Ydata[:,:,:]\n",
    "\n",
    "\n",
    "print(left_eye_data1.shape, right_eye_data1.shape, face_features_data1.shape, Ydata1.shape)"
   ]
  },
  {
   "cell_type": "code",
   "execution_count": 7,
   "metadata": {},
   "outputs": [
    {
     "name": "stdout",
     "output_type": "stream",
     "text": [
      "(106050, 36, 60, 3) (106050, 36, 60, 3) (106050, 15) (106050, 2)\n"
     ]
    }
   ],
   "source": [
    "left_eye_data2 = left_eye_data1.reshape((left_eye_data1.shape[0]*left_eye_data1.shape[1], \n",
    "                                         left_eye_data1.shape[2],left_eye_data1.shape[3],\n",
    "                                         left_eye_data1.shape[4]))\n",
    "\n",
    "right_eye_data2 = right_eye_data1.reshape((right_eye_data1.shape[0]*right_eye_data1.shape[1], \n",
    "                                         right_eye_data1.shape[2],right_eye_data1.shape[3],\n",
    "                                         right_eye_data1.shape[4]))\n",
    "\n",
    "face_features_data2 = face_features_data1.reshape((face_features_data1.shape[0]*face_features_data1.shape[1], \n",
    "                                         face_features_data1.shape[2]))\n",
    "\n",
    "Ydata2 = Ydata1.reshape((Ydata1.shape[0]*Ydata1.shape[1], \n",
    "                                         Ydata1.shape[2]))\n",
    "\n",
    "print(left_eye_data2.shape, right_eye_data2.shape, face_features_data2.shape, Ydata2.shape)"
   ]
  },
  {
   "cell_type": "markdown",
   "metadata": {},
   "source": [
    "## Divide the data into Train and Val\n",
    "\n",
    "Only for first 50 frames \n",
    "\n",
    "1.  Train = 80% of total dataset \n",
    "    - For images\n",
    "       1. left_eye_data2\n",
    "       2. right_eye_data2\n",
    "       3. face_features_data2\n",
    "       4. Ydata2\n",
    "       \n",
    "    - For videos\n",
    "    \n",
    "2.  val = 20% of the dataset\n",
    "3. Test = left_eye10, right_eye10, face_features10, Y10"
   ]
  },
  {
   "cell_type": "code",
   "execution_count": 8,
   "metadata": {},
   "outputs": [
    {
     "data": {
      "text/plain": [
       "array([ 0.00000000e+00,  6.08081198e+00,  4.94098377e+00, -1.44891679e+00,\n",
       "        3.29000000e+02,  1.89000000e+02,  1.72000000e+02,  2.06000000e+02,\n",
       "        9.08040000e+04,  2.44000000e+02,  2.96000000e+02,  2.48000000e+02,\n",
       "        7.69000000e+02,  3.40000000e+01,  5.55000000e+02])"
      ]
     },
     "execution_count": 8,
     "metadata": {},
     "output_type": "execute_result"
    }
   ],
   "source": [
    "face_features_data2[0]"
   ]
  },
  {
   "cell_type": "code",
   "execution_count": 9,
   "metadata": {},
   "outputs": [
    {
     "name": "stdout",
     "output_type": "stream",
     "text": [
      "95445 5302 5303\n"
     ]
    }
   ],
   "source": [
    "from random import shuffle\n",
    "\n",
    "idx = np.arange(0,len(Ydata2))\n",
    "shuffle(idx)\n",
    "\n",
    "train_len = int((90 * len(Ydata2))/100)\n",
    "\n",
    "train_idx = idx[:train_len]\n",
    "#val_idx = idx[train_len:len(Ydata2)]\n",
    "val_idx = idx[train_len:train_len+int((len(Ydata2)-train_len)/2)]\n",
    "test_idx = idx[train_len+int((len(Ydata2)-train_len)/2):len(Ydata2)]\n",
    "\n",
    "print(len(train_idx),len(val_idx), len(test_idx))"
   ]
  },
  {
   "cell_type": "code",
   "execution_count": 10,
   "metadata": {},
   "outputs": [],
   "source": [
    "train_left_eye_data = left_eye_data2[train_idx]\n",
    "train_right_eye_data = right_eye_data2[train_idx]\n",
    "train_face_features_data = face_features_data2[train_idx] \n",
    "train_Ydata = Ydata2[train_idx]\n",
    "\n",
    "val_left_eye_data = left_eye_data2[val_idx]\n",
    "val_right_eye_data = right_eye_data2[val_idx]\n",
    "val_face_features_data = face_features_data2[val_idx] \n",
    "val_Ydata = Ydata2[val_idx]\n",
    "\n",
    "test_left_eye_data = left_eye_data2[test_idx]\n",
    "test_right_eye_data = right_eye_data2[test_idx]\n",
    "test_face_features_data = face_features_data2[test_idx] \n",
    "test_Ydata = Ydata2[test_idx]\n",
    "\n",
    "\n",
    "# test_left_eye_data = left_eye10.reshape((left_eye10.shape[0]*left_eye10.shape[1], \n",
    "#                                          left_eye10.shape[2],left_eye10.shape[3],\n",
    "#                                          left_eye10.shape[4]))  \n",
    "\n",
    "# test_right_eye_data = right_eye10.reshape((right_eye10.shape[0]*right_eye10.shape[1], \n",
    "#                                          right_eye10.shape[2],right_eye10.shape[3],\n",
    "#                                          right_eye10.shape[4]))  \n",
    "\n",
    "# test_face_features_data = face_features10.reshape((face_features10.shape[0]*face_features10.shape[1], \n",
    "#                                          face_features10.shape[2]))\n",
    "\n",
    "# test_Ydata = Y10.reshape((Y10.shape[0]*Y10.shape[1], \n",
    "#                                          Y10.shape[2]))\n"
   ]
  },
  {
   "cell_type": "markdown",
   "metadata": {},
   "source": [
    "## Train model"
   ]
  },
  {
   "cell_type": "code",
   "execution_count": 12,
   "metadata": {},
   "outputs": [
    {
     "name": "stdout",
     "output_type": "stream",
     "text": [
      "_________________________________________________________________\n",
      "Layer (type)                 Output Shape              Param #   \n",
      "=================================================================\n",
      "conv2d_3 (Conv2D)            (None, 34, 58, 20)        560       \n",
      "_________________________________________________________________\n",
      "max_pooling2d_3 (MaxPooling2 (None, 17, 29, 20)        0         \n",
      "_________________________________________________________________\n",
      "conv2d_4 (Conv2D)            (None, 15, 27, 50)        9050      \n",
      "_________________________________________________________________\n",
      "max_pooling2d_4 (MaxPooling2 (None, 7, 13, 50)         0         \n",
      "_________________________________________________________________\n",
      "flatten_2 (Flatten)          (None, 4550)              0         \n",
      "=================================================================\n",
      "Total params: 9,610\n",
      "Trainable params: 9,610\n",
      "Non-trainable params: 0\n",
      "_________________________________________________________________\n",
      "None\n"
     ]
    },
    {
     "name": "stderr",
     "output_type": "stream",
     "text": [
      "/home/isha.d/.local/lib/python3.5/site-packages/ipykernel_launcher.py:19: UserWarning: The `Merge` layer is deprecated and will be removed after 08/2017. Use instead layers from `keras.layers.merge`, e.g. `add`, `concatenate`, etc.\n"
     ]
    }
   ],
   "source": [
    "from keras.regularizers import l2\n",
    "\n",
    "model = Sequential()\n",
    "model.add(Conv2D(20, kernel_size=(3, 3),activation='relu',input_shape=(36,60,3)))\n",
    "model.add(MaxPooling2D(pool_size=(2, 2)))\n",
    "#model.add(Conv2D(50, (3, 3), activation='relu'))\n",
    "# model.add(Dropout(0.5))\n",
    "model.add(Conv2D(50, (3, 3), activation='relu',kernel_regularizer=l2(0.01), bias_regularizer=l2(0.01)))\n",
    "model.add(MaxPooling2D(pool_size=(2, 2)))\n",
    "# model.add(Dropout(0.5))\n",
    "model.add(Flatten())\n",
    "inputs = Input(shape=(10,))\n",
    "#model2= model\n",
    "\n",
    "model3 = Sequential()\n",
    "model3.add(Dense(16, activation ='relu', input_dim=(14)))\n",
    "\n",
    "model2 = Sequential()\n",
    "model2.add(Merge([model, model3], mode = 'concat'))\n",
    "\n",
    "model2.add(Dense(512, activation='relu', kernel_regularizer=l2(0.01), bias_regularizer=l2(0.01)))\n",
    "#model2.add(Dense(500))\n",
    "model2.add(Dense(2))\n",
    "print(model.summary())\n"
   ]
  },
  {
   "cell_type": "code",
   "execution_count": 19,
   "metadata": {},
   "outputs": [],
   "source": [
    "model2.compile(loss='mae', optimizer='adam')"
   ]
  },
  {
   "cell_type": "code",
   "execution_count": 20,
   "metadata": {},
   "outputs": [
    {
     "name": "stdout",
     "output_type": "stream",
     "text": [
      "Train on 95445 samples, validate on 5302 samples\n",
      "Epoch 1/300\n",
      "95445/95445 [==============================] - 15s 155us/step - loss: 195.1291 - val_loss: 168.3614\n",
      "Epoch 2/300\n",
      "95445/95445 [==============================] - 14s 150us/step - loss: 153.3830 - val_loss: 142.2668\n",
      "Epoch 3/300\n",
      "95445/95445 [==============================] - 15s 153us/step - loss: 142.7306 - val_loss: 139.3704\n",
      "Epoch 4/300\n",
      "95445/95445 [==============================] - 14s 151us/step - loss: 136.5777 - val_loss: 132.4280\n",
      "Epoch 5/300\n",
      "95445/95445 [==============================] - 14s 150us/step - loss: 130.0260 - val_loss: 124.3958\n",
      "Epoch 6/300\n",
      "95445/95445 [==============================] - 14s 151us/step - loss: 124.1194 - val_loss: 120.2996\n",
      "Epoch 7/300\n",
      "95445/95445 [==============================] - 15s 153us/step - loss: 118.9171 - val_loss: 116.6622\n",
      "Epoch 8/300\n",
      "95445/95445 [==============================] - 14s 150us/step - loss: 114.5356 - val_loss: 110.8214\n",
      "Epoch 9/300\n",
      "95445/95445 [==============================] - 14s 150us/step - loss: 111.2596 - val_loss: 113.7524\n",
      "Epoch 10/300\n",
      "95445/95445 [==============================] - 15s 153us/step - loss: 108.2478 - val_loss: 109.2805\n",
      "Epoch 11/300\n",
      "95445/95445 [==============================] - 15s 152us/step - loss: 106.0675 - val_loss: 110.2149\n",
      "Epoch 12/300\n",
      "95445/95445 [==============================] - 14s 151us/step - loss: 104.3174 - val_loss: 106.1475\n",
      "Epoch 13/300\n",
      "95445/95445 [==============================] - 15s 152us/step - loss: 102.6457 - val_loss: 104.5776\n",
      "Epoch 14/300\n",
      "95445/95445 [==============================] - 15s 153us/step - loss: 100.8151 - val_loss: 107.9813\n",
      "Epoch 15/300\n",
      "95445/95445 [==============================] - 14s 151us/step - loss: 99.7938 - val_loss: 101.9555\n",
      "Epoch 16/300\n",
      "95445/95445 [==============================] - 14s 151us/step - loss: 98.4168 - val_loss: 100.8355\n",
      "Epoch 17/300\n",
      "95445/95445 [==============================] - 15s 153us/step - loss: 97.5673 - val_loss: 102.4595\n",
      "Epoch 18/300\n",
      "95445/95445 [==============================] - 14s 152us/step - loss: 96.4149 - val_loss: 101.6370\n",
      "Epoch 19/300\n",
      "95445/95445 [==============================] - 14s 151us/step - loss: 95.6865 - val_loss: 99.6055\n",
      "Epoch 20/300\n",
      "95445/95445 [==============================] - 15s 153us/step - loss: 94.8170 - val_loss: 101.1880\n",
      "Epoch 21/300\n",
      "95445/95445 [==============================] - 15s 152us/step - loss: 94.1469 - val_loss: 100.8771\n",
      "Epoch 22/300\n",
      "95445/95445 [==============================] - 14s 151us/step - loss: 93.5927 - val_loss: 100.0049\n",
      "Epoch 23/300\n",
      "95445/95445 [==============================] - 14s 152us/step - loss: 92.7680 - val_loss: 99.1776\n",
      "Epoch 24/300\n",
      "95445/95445 [==============================] - 15s 153us/step - loss: 92.2956 - val_loss: 97.8545\n",
      "Epoch 25/300\n",
      "95445/95445 [==============================] - 14s 152us/step - loss: 92.1645 - val_loss: 97.9618\n",
      "Epoch 26/300\n",
      "95445/95445 [==============================] - 14s 151us/step - loss: 91.5691 - val_loss: 99.1109\n",
      "Epoch 27/300\n",
      "95445/95445 [==============================] - 15s 153us/step - loss: 90.9487 - val_loss: 97.2611\n",
      "Epoch 28/300\n",
      "95445/95445 [==============================] - 15s 153us/step - loss: 90.3174 - val_loss: 103.2160\n",
      "Epoch 29/300\n",
      "95445/95445 [==============================] - 14s 151us/step - loss: 89.8647 - val_loss: 98.3424\n",
      "dict_keys(['val_loss', 'loss'])\n"
     ]
    }
   ],
   "source": [
    "earlystopping = keras.callbacks.EarlyStopping(monitor = 'val_loss',min_delta = 1, patience =5, verbose =0, mode ='auto')\n",
    "\n",
    "history = model2.fit([train_left_eye_data, train_face_features_data[:,1:]], train_Ydata, epochs=300, \n",
    "                     batch_size=40, callbacks=[earlystopping], validation_data=([val_left_eye_data,\n",
    "                     val_face_features_data[:,1:]],val_Ydata), verbose=1, shuffle= True)\n",
    "print(history.history.keys())\n"
   ]
  },
  {
   "cell_type": "code",
   "execution_count": 21,
   "metadata": {},
   "outputs": [
    {
     "name": "stdout",
     "output_type": "stream",
     "text": [
      "dict_keys(['val_loss', 'loss'])\n"
     ]
    },
    {
     "data": {
      "image/png": "[encoded data removed]",
      "text/plain": [
       "<Figure size 432x288 with 1 Axes>"
      ]
     },
     "metadata": {},
     "output_type": "display_data"
    }
   ],
   "source": [
    "print(history.history.keys())\n",
    "\n",
    "plt.plot(history.history['loss'])\n",
    "plt.plot(history.history['val_loss'])\n",
    "plt.show()\n"
   ]
  },
  {
   "cell_type": "code",
   "execution_count": 22,
   "metadata": {},
   "outputs": [],
   "source": [
    "from sklearn.metrics import mean_absolute_error\n",
    "\n",
    "def compute_error(left_eye_data, face_features_data, Ydata):\n",
    "    y_true = Ydata\n",
    "#     y_pred = model2.predict([left_eye_data, face_features_data[:,1:]]).astype(int)\n",
    "#     error = rmse(y_true, y_pred)\n",
    "#     print(error)\n",
    "#     return error\n",
    "    scores = model2.evaluate([left_eye_data, face_features_data[:,1:]], Ydata)\n",
    "    return scores"
   ]
  },
  {
   "cell_type": "code",
   "execution_count": 23,
   "metadata": {},
   "outputs": [
    {
     "name": "stdout",
     "output_type": "stream",
     "text": [
      "95445/95445 [==============================] - 6s 58us/step\n",
      "5302/5302 [==============================] - 0s 56us/step\n",
      "5303/5303 [==============================] - 0s 59us/step\n",
      "Train Error ==>  88.41756595937507\n",
      "Val Error ==>  98.34241694245685\n",
      "Test Error ==>  101.7922598450179\n"
     ]
    }
   ],
   "source": [
    "train_error = compute_error(train_left_eye_data, train_face_features_data, train_Ydata)\n",
    "val_error = compute_error(val_left_eye_data, val_face_features_data, val_Ydata)\n",
    "test_error = compute_error(test_left_eye_data, test_face_features_data, test_Ydata)\n",
    "    \n",
    "print(\"Train Error ==> \", train_error)\n",
    "print(\"Val Error ==> \",  val_error)\n",
    "print(\"Test Error ==> \" ,test_error)"
   ]
  },
  {
   "cell_type": "code",
   "execution_count": null,
   "metadata": {},
   "outputs": [],
   "source": []
  },
  {
   "cell_type": "code",
   "execution_count": null,
   "metadata": {},
   "outputs": [],
   "source": [
    "def plot_image_results(ytest, ypred):\n",
    "    \n",
    "    image = np.zeros((1080, 1920))\n",
    "    count = 0\n",
    "    \n",
    "    for i in range(0,len(ypred)):\n",
    "\n",
    "       # print(y[i,0], y[i,1], pred_y[i][0], pred_y[i][1])\n",
    "        cv2.circle(image, (ytest[i,0], ytest[i,1]), 10, (255, 0 ,0),50)\n",
    "        cv2.circle(image, (ypred[i][0], ypred[i][1]), 20, (255, 255, 255), 10)\n",
    "\n",
    "        if(count ==2):\n",
    "            plt.figure(figsize=(10,10))\n",
    "            plt.imshow(image)\n",
    "            plt.show()\n",
    "            count =0\n",
    "            image = np.zeros((1080, 1920))\n",
    "          \n",
    "        count +=1\n",
    "        \n"
   ]
  },
  {
   "cell_type": "code",
   "execution_count": null,
   "metadata": {},
   "outputs": [],
   "source": [
    "def plot_results2(gt, pred, lines=True):\n",
    "    # to get correct scale\n",
    "    plt.figure(figsize=(20,10))\n",
    "    plt.scatter(0,0,c='white')\n",
    "    plt.scatter(1920,1080,c='white')\n",
    "    # to get lines\n",
    "    if lines==True:\n",
    "        for ii in range(gt.shape[0]):\n",
    "            plt.plot([gt[ii,0],pred[ii,0]], [gt[ii,1], pred[ii,1]],c='yellow')\n",
    "    # plot points\n",
    "    \n",
    "    plt.scatter(pred[:,0], pred[:,1],s=15, c='red')\n",
    "    plt.scatter(gt[:,0], gt[:,1],s=40,c='blue')\n",
    "    plt.show()\n",
    "        \n"
   ]
  },
  {
   "cell_type": "code",
   "execution_count": null,
   "metadata": {},
   "outputs": [],
   "source": [
    "def plot_graph(left_eye_data, face_features_data, Ydata4):\n",
    "    \n",
    "    y_pred = model2.predict([left_eye_data, face_features_data[:,1:]]).astype(int)\n",
    "   # print(y_pred, Ydata4)\n",
    "   # print(y_pred[:10], Ydata[:10])\n",
    "    plot_image_results(Ydata4, y_pred )\n",
    "    plot_results2(Ydata4[:10,:], y_pred[:10,:])"
   ]
  },
  {
   "cell_type": "code",
   "execution_count": null,
   "metadata": {},
   "outputs": [],
   "source": [
    "plot_graph(test_left_eye_data[:1000], test_face_features_data[:1000], test_Ydata[:1000])"
   ]
  },
  {
   "cell_type": "code",
   "execution_count": null,
   "metadata": {},
   "outputs": [],
   "source": [
    "def plot_results(ytest, ypred):\n",
    "    \n",
    "    #vid = cv2.VideoCapture(video)\n",
    "    count = 0; i =0\n",
    "  #  ret, frame= vid.read()\n",
    "   # image = frame\n",
    "    image = np.zeros((1080, 1920))\n",
    "    while(True):\n",
    "        cv2.circle(image, (ytest[i,0], ytest[i,1]), 5, (255, 255, 255),50)\n",
    "        cv2.circle(image, (ypred[i][0], ypred[i][1]), 20, (255, 255, 255), 10)\n",
    "        \n",
    "        if(count ==10):\n",
    "            plt.figure(figsize=(10,10))\n",
    "            plt.imshow(image)\n",
    "            plt.show()\n",
    "            cv2.imwrite('faltu.jpg',image)\n",
    "            count =0\n",
    "           # ret, frame = vid.read()\n",
    "            #image = frame\n",
    "            image = np.zeros((1080, 1920))\n",
    "           # break\n",
    "#         else:\n",
    "# #             ret, frame= vid.read()\n",
    "#             image = np.zeros((1080, 1920))\n",
    "        count +=1\n",
    "        i +=1"
   ]
  },
  {
   "cell_type": "code",
   "execution_count": null,
   "metadata": {},
   "outputs": [],
   "source": [
    "def new_video(folder, finetune):\n",
    "    \n",
    "    left_eye_data1, right_eye_data1, face_features_data1, Y_data1 = get_features(folder)\n",
    "    \n",
    "    left_eye_data2 = left_eye_data1.reshape((left_eye_data1.shape[0]*left_eye_data1.shape[1], \n",
    "                                         left_eye_data1.shape[2],left_eye_data1.shape[3],\n",
    "                                         left_eye_data1.shape[4]))\n",
    "\n",
    "    right_eye_data2 = right_eye_data1.reshape((right_eye_data1.shape[0]*right_eye_data1.shape[1], \n",
    "                                             right_eye_data1.shape[2],right_eye_data1.shape[3],\n",
    "                                             right_eye_data1.shape[4]))\n",
    "\n",
    "    face_features_data2 = face_features_data1.reshape((face_features_data1.shape[0]*face_features_data1.shape[1], \n",
    "                                             face_features_data1.shape[2]))\n",
    "\n",
    "    Ydata2 = Ydata1.reshape((Ydata1.shape[0]*Ydata1.shape[1], \n",
    "                                             Ydata1.shape[2]))\n",
    "    \n",
    "    \n",
    "    if(finetune == 1):\n",
    "        model2.fit([left_eye_data2[:2000], face_features_data2[:2000,1:]], Ydata2[:2000], epochs=10, \n",
    "                     batch_size=40, callbacks=[earlystopping],\n",
    "                    verbose=2, shuffle= True)\n",
    "\n",
    "    y_pred = model2.predict([left_eye_data2[:2000], face_features_data2[:2000,1:]]).astype(int)\n",
    "#     return plot_results2(Ydata2[1000:1010], y_pred[:10])\n",
    "#     for ii in range(0,y_pred.shape[0],100):\n",
    "#         plot_results2(Ydata2[:2000], y_pred)\n",
    "    "
   ]
  },
  {
   "cell_type": "code",
   "execution_count": null,
   "metadata": {},
   "outputs": [],
   "source": [
    "new_video(5,0)"
   ]
  },
  {
   "cell_type": "code",
   "execution_count": null,
   "metadata": {},
   "outputs": [],
   "source": [
    "new_video(7,1)"
   ]
  },
  {
   "cell_type": "code",
   "execution_count": null,
   "metadata": {},
   "outputs": [],
   "source": []
  }
 ],
 "metadata": {
  "kernelspec": {
   "display_name": "Python 3",
   "language": "python",
   "name": "python3"
  },
  "language_info": {
   "codemirror_mode": {
    "name": "ipython",
    "version": 3
   },
   "file_extension": ".py",
   "mimetype": "text/x-python",
   "name": "python",
   "nbconvert_exporter": "python",
   "pygments_lexer": "ipython3",
   "version": "3.5.2"
  }
 },
 "nbformat": 4,
 "nbformat_minor": 2
}
